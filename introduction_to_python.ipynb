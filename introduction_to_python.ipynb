{
 "cells": [
  {
   "cell_type": "markdown",
   "metadata": {},
   "source": [
    "# **Introduction to Python**\n",
    "\n",
    "1. [Variable](#1.-Variable)\n",
    "2. [Data types](#2.-Data-Types)\n",
    "3. [Strings](#3.-Strings)\n",
    "4. [Operators](#4.-Operators)\n",
    "5. [Conditional Statements](#5.-Conditional-Statements)\n",
    "6. [List](#6.-List)"
   ]
  },
  {
   "cell_type": "code",
   "execution_count": 8,
   "metadata": {},
   "outputs": [
    {
     "name": "stdout",
     "output_type": "stream",
     "text": [
      "Hello World\n"
     ]
    }
   ],
   "source": [
    "print(\"Hello World\")"
   ]
  },
  {
   "cell_type": "markdown",
   "metadata": {},
   "source": [
    "## **1. Variable**"
   ]
  },
  {
   "cell_type": "markdown",
   "metadata": {},
   "source": [
    "\n",
    "        `Identifire = value`\n",
    "- Variables are containers for storing data values.\n",
    "- In Python, you dont need to declare a variable type explicitly; it is inferred based on the value assigned.\n",
    "#### *Rules for Naming Variables*\n",
    "- Variable names can only contain **letters, numbers, and underscores** (e.g., `my_variable`).\n",
    "- Variable names **cannot start with a number** (e.g., `2variable` is invalid).\n",
    "- Variable names are **case-sensitive** (e.g., `Age` and `age` are different).\n",
    "- Avoid using **Python reserved keywords** (e.g., `if`, `for`, `while`).\n"
   ]
  },
  {
   "cell_type": "code",
   "execution_count": 2,
   "metadata": {},
   "outputs": [
    {
     "name": "stdout",
     "output_type": "stream",
     "text": [
      "My name is:  Saira\n",
      "Saira Saira Saira\n",
      "25 False\n",
      "<class 'int'> <class 'bool'> <class 'NoneType'>\n"
     ]
    }
   ],
   "source": [
    "name = \"Saira\"\n",
    "print (\"My name is: \", name)\n",
    "name1 = 'Saira'\n",
    "name2 = \"Saira\"\n",
    "name3 = '''Saira'''\n",
    "print (name1, name2, name3)\n",
    "\n",
    "age = 25\n",
    "old = False\n",
    "a = None\n",
    "print (age, old)\n",
    "print (type(age), type(old), type(a))"
   ]
  },
  {
   "cell_type": "markdown",
   "metadata": {},
   "source": [
    "## **2. Data types**"
   ]
  },
  {
   "cell_type": "markdown",
   "metadata": {},
   "source": [
    "Python provides several built-in data types to handle different kinds of data.\n",
    "- String\n",
    "- Int\n",
    "- Float\n",
    "- Boolean\n",
    "- None\n",
    "  \n",
    "  #### **2.1. Numeric Types**\n",
    "\n",
    "- **int**: Integer values.\n",
    "\n",
    "  ```python\n",
    "  x = 100\n",
    "  ```\n",
    "\n",
    "- **float**: Decimal numbers.\n",
    "\n",
    "  ```python\n",
    "  y = 3.14\n",
    "  ```\n",
    "\n",
    "- **complex**: Complex numbers.\n",
    "\n",
    "  ```python\n",
    "  z = 2 + 3j\n",
    "  ```\n",
    "\n",
    "  #### **2.2. Sequence Types**\n",
    "\n",
    "- **str**: Text data.\n",
    "\n",
    "  ```python\n",
    "  name = \"Hello, World!\"\n",
    "  ```\n",
    "\n",
    "- **list**: Ordered, mutable collection.\n",
    "\n",
    "  ```python\n",
    "  fruits = [\"apple\", \"banana\", \"cherry\"]\n",
    "  ```\n",
    "\n",
    "- **tuple**: Ordered, immutable collection.\n",
    "\n",
    "  ```python\n",
    "  coordinates = (10, 20)\n",
    "  ```\n",
    "\n",
    "- **range**: Sequence of numbers.\n",
    "\n",
    "  ```python\n",
    "  numbers = range(5)  # 0, 1, 2, 3, 4\n",
    "  ```\n",
    "  ####  **2.3. Set Types**\n",
    "\n",
    "- **set**: Unordered, unique items.\n",
    "\n",
    "  ```python\n",
    "  unique_numbers = {1, 2, 3}\n",
    "  ```\n",
    "\n",
    "- **frozenset**: Immutable version of a set.\n",
    "\n",
    "  ```python\n",
    "  frozen_set = frozenset([1, 2, 3])\n",
    "  ```\n",
    "\n",
    "  #### **2.4. Mapping Type**\n",
    "\n",
    "- **dict**: Key-value pairs.\n",
    "\n",
    "  ```python\n",
    "  person = {\"name\": \"Saira\", \"age\": 25}\n",
    "  ```\n",
    "  #### **2.5. Boolean Type**\n",
    "\n",
    "- **bool**: Represents `True` or `False`.\n",
    "\n",
    "  ```python\n",
    "  is_logged_in = True\n",
    "  ```\n",
    "\n",
    "  #### **2.6. Binary Types**\n",
    "\n",
    "- **bytes**: Immutable sequence of bytes.\n",
    "\n",
    "  ```python\n",
    "  byte_data = b\"hello\"\n",
    "  ```\n",
    "\n",
    "- **bytearray**: Mutable sequence of bytes.\n",
    "\n",
    "  ```python\n",
    "  mutable_bytes = bytearray(b\"hello\")\n",
    "  ```\n",
    "\n",
    "- **memoryview**: View of memory from another binary object.\n",
    "\n",
    "  ```python\n",
    "  mv = memoryview(bytes(5))\n",
    "  ```\n",
    "\n",
    "  #### **2.7. None Type**\n",
    "\n",
    "- **NoneType**: Represents no value.\n",
    "\n",
    "  ```python\n",
    "  x = None\n",
    "  ```\n"
   ]
  },
  {
   "cell_type": "markdown",
   "metadata": {},
   "source": [
    "### **Checking Data Types**"
   ]
  },
  {
   "cell_type": "code",
   "execution_count": 5,
   "metadata": {},
   "outputs": [
    {
     "name": "stdout",
     "output_type": "stream",
     "text": [
      "<class 'int'>\n"
     ]
    }
   ],
   "source": [
    "\n",
    "x = 10\n",
    "print(type(x))  # Output: <class 'int'>"
   ]
  },
  {
   "cell_type": "markdown",
   "metadata": {},
   "source": [
    "### **Type conversion**\n",
    "Convert one data type to another using type conversion functions:\n",
    "\n",
    "- `int()`: Converts to an integer.\n",
    "- `float()`: Converts to a float.\n",
    "- `str()`: Converts to a string.\n",
    "- `list()`: Converts to a list."
   ]
  },
  {
   "cell_type": "code",
   "execution_count": 6,
   "metadata": {},
   "outputs": [],
   "source": [
    "x = \"123\"\n",
    "y = int(x)  # Converts the string \"123\" to the integer 123"
   ]
  },
  {
   "cell_type": "markdown",
   "metadata": {},
   "source": [
    "### **6. Mutable vs Immutable Data Types**\n",
    "\n",
    "- **Mutable**: Can be changed after creation.\n",
    "  - Examples: `list`, `dict`, `set`, `bytearray`\n",
    "- **Immutable**: Cannot be changed after creation.\n",
    "  - Examples: `int`, `float`, `str`, `tuple`, `frozenset`, `bytes`\n",
    "  \n",
    "#### *Example:-*\n",
    "\n",
    "```python\n",
    "# Mutable\n",
    "my_list = [1, 2, 3]\n",
    "my_list[0] = 10  # Allowed\n",
    "\n",
    "# Immutable\n",
    "my_tuple = (1, 2, 3)\n",
    "my_tuple[0] = 10  # Raises an error\n",
    "```"
   ]
  },
  {
   "cell_type": "markdown",
   "metadata": {},
   "source": [
    "## **3. Strings**\n",
    "\n",
    "A string is a sequence of characters enclosed in quotes. You can use single (' ') or double (\" \") quotes.\n"
   ]
  },
  {
   "cell_type": "code",
   "execution_count": null,
   "metadata": {},
   "outputs": [
    {
     "name": "stdout",
     "output_type": "stream",
     "text": [
      "Saira\n",
      "Hello, world!\n"
     ]
    }
   ],
   "source": [
    "name = \"Saira\"\n",
    "greeting = 'Hello, world!'\n",
    "print(name)\n",
    "print(greeting)\n"
   ]
  },
  {
   "cell_type": "markdown",
   "metadata": {},
   "source": [
    "### **String Operations**\n",
    "- Concatenation (Joining Strings)\n",
    "- String Length\n",
    "- Accessing Characters\n",
    "- String manipulation\n",
    "- Escape sequence character\n",
    "- Slicing"
   ]
  },
  {
   "cell_type": "markdown",
   "metadata": {},
   "source": [
    "#### **3.1 Concatenation (Joining Strings)** \n",
    "String concatenation means joining two or more strings together using the + operator"
   ]
  },
  {
   "cell_type": "code",
   "execution_count": null,
   "metadata": {},
   "outputs": [
    {
     "name": "stdout",
     "output_type": "stream",
     "text": [
      "Saira Kanwal\n"
     ]
    }
   ],
   "source": [
    "first_name = \"Saira\"\n",
    "last_name = \"Kanwal\"\n",
    "full_name = first_name + \" \" + last_name\n",
    "print(full_name)  # Output: Saira Kanwal\n"
   ]
  },
  {
   "cell_type": "markdown",
   "metadata": {},
   "source": [
    "- **Concatenation with User Input**"
   ]
  },
  {
   "cell_type": "code",
   "execution_count": null,
   "metadata": {},
   "outputs": [
    {
     "name": "stdout",
     "output_type": "stream",
     "text": [
      "Hello, Saira!\n"
     ]
    }
   ],
   "source": [
    "name = input(\"Enter your name: \")\n",
    "greeting = \"Hello, \" + name + \"!\"\n",
    "print(greeting)\n"
   ]
  },
  {
   "cell_type": "markdown",
   "metadata": {},
   "source": [
    "- **Using += for Concatenation**"
   ]
  },
  {
   "cell_type": "code",
   "execution_count": null,
   "metadata": {},
   "outputs": [
    {
     "name": "stdout",
     "output_type": "stream",
     "text": [
      "Hello World\n"
     ]
    }
   ],
   "source": [
    "text = \"Hello\"\n",
    "text += \" World\"\n",
    "print(text)  # Output: Hello World\n"
   ]
  },
  {
   "cell_type": "markdown",
   "metadata": {},
   "source": [
    "#### **3.2 String Length**"
   ]
  },
  {
   "cell_type": "code",
   "execution_count": null,
   "metadata": {},
   "outputs": [
    {
     "name": "stdout",
     "output_type": "stream",
     "text": [
      "6\n"
     ]
    }
   ],
   "source": [
    "text = \"Python\"\n",
    "print(len(text))  # Output: 6\n"
   ]
  },
  {
   "cell_type": "markdown",
   "metadata": {},
   "source": [
    "#### **3.3 String indexing**"
   ]
  },
  {
   "cell_type": "markdown",
   "metadata": {},
   "source": [
    "> Indexing starts at 0"
   ]
  },
  {
   "cell_type": "code",
   "execution_count": null,
   "metadata": {},
   "outputs": [
    {
     "name": "stdout",
     "output_type": "stream",
     "text": [
      "P\n",
      "n\n"
     ]
    }
   ],
   "source": [
    "word = \"Python\"\n",
    "print(word[0])   # Output: P\n",
    "print(word[-1])  # Output: n\n"
   ]
  },
  {
   "cell_type": "markdown",
   "metadata": {},
   "source": [
    "> Negative Indexing (from the end)"
   ]
  },
  {
   "cell_type": "code",
   "execution_count": null,
   "metadata": {},
   "outputs": [],
   "source": [
    "print(word[-1])  # Output: n  (Last character)\n",
    "print(word[-3])  # Output: h  (Third from last)"
   ]
  },
  {
   "cell_type": "markdown",
   "metadata": {},
   "source": [
    "#### **3.4 String manipulation**\n",
    "String manipulation means modifying or processing strings using various methods. Here are some important ones:\n",
    "* Changing Case\n",
    "* Removing Spaces\n",
    "* Replacing Text\n",
    "* Splitting and Joining Strings\n",
    "* Checking Substrings"
   ]
  },
  {
   "cell_type": "markdown",
   "metadata": {},
   "source": [
    "##### **1- Changing Case**"
   ]
  },
  {
   "cell_type": "code",
   "execution_count": null,
   "metadata": {},
   "outputs": [
    {
     "name": "stdout",
     "output_type": "stream",
     "text": [
      "HELLO PYTHON\n",
      "hello python\n",
      "Hello Python\n"
     ]
    }
   ],
   "source": [
    "text = \"hello Python\"\n",
    "print(text.upper())  # Output: HELLO PYTHON\n",
    "print(text.lower())  # Output: hello python\n",
    "print(text.title())  # Output: Hello Python"
   ]
  },
  {
   "cell_type": "markdown",
   "metadata": {},
   "source": [
    "##### **2- Removing Spaces**"
   ]
  },
  {
   "cell_type": "code",
   "execution_count": null,
   "metadata": {},
   "outputs": [
    {
     "name": "stdout",
     "output_type": "stream",
     "text": [
      "Hello World\n",
      "Hello World  \n",
      "  Hello World\n"
     ]
    }
   ],
   "source": [
    "text = \"  Hello World  \"\n",
    "print(text.strip())   # Removes spaces from both sides\n",
    "print(text.lstrip())  # Removes spaces from the left\n",
    "print(text.rstrip())  # Removes spaces from the right\n"
   ]
  },
  {
   "cell_type": "markdown",
   "metadata": {},
   "source": [
    "##### **3- Replacing Text**"
   ]
  },
  {
   "cell_type": "code",
   "execution_count": null,
   "metadata": {},
   "outputs": [
    {
     "name": "stdout",
     "output_type": "stream",
     "text": [
      "I love Python\n"
     ]
    }
   ],
   "source": [
    "text = \"I love Java\"\n",
    "print(text.replace(\"Java\", \"Python\"))  # Output: I love Python"
   ]
  },
  {
   "cell_type": "markdown",
   "metadata": {},
   "source": [
    "##### **4- Splitting and Joining Strings**"
   ]
  },
  {
   "cell_type": "code",
   "execution_count": null,
   "metadata": {},
   "outputs": [
    {
     "name": "stdout",
     "output_type": "stream",
     "text": [
      "['apple', 'banana', 'grape']\n",
      "apple - banana - grape\n"
     ]
    }
   ],
   "source": [
    "text = \"apple,banana,grape\"\n",
    "fruits = text.split(\",\")  # Splits into a list\n",
    "print(fruits)  # Output: ['apple', 'banana', 'grape']\n",
    "\n",
    "new_text = \" - \".join(fruits)\n",
    "print(new_text)  # Output: apple - banana - grape\n"
   ]
  },
  {
   "cell_type": "markdown",
   "metadata": {},
   "source": [
    "##### **5- Checking Substrings**"
   ]
  },
  {
   "cell_type": "code",
   "execution_count": null,
   "metadata": {},
   "outputs": [
    {
     "name": "stdout",
     "output_type": "stream",
     "text": [
      "True\n",
      "True\n"
     ]
    }
   ],
   "source": [
    "text = \"Python is fun\"\n",
    "print(\"Python\" in text)   # Output: True\n",
    "print(\"Java\" not in text) # Output: True\n"
   ]
  },
  {
   "cell_type": "markdown",
   "metadata": {},
   "source": [
    "#### **3.5 Escape sequence charactes**"
   ]
  },
  {
   "cell_type": "markdown",
   "metadata": {},
   "source": [
    "\n",
    "In Python, escape sequence characters are special characters that start with a backslash (\\) and are used to represent certain special characters that would be difficult or impossible to express directly in a string. Escape sequences are useful for formatting strings, representing special symbols, and managing characters that have a special meaning in the string.\n",
    "1. `\\n` – Newline\n",
    "It moves the cursor to the next line.\n",
    "2.  `\\t` – Horizontal Tab\n",
    "It inserts a tab space between words or characters.\n",
    "3. `\\\\` – Backslash\n",
    "It represents a single backslash (\\).\n",
    "4.  `\\'` – Single Quote\n",
    "It is used to include a single quote in a string that is enclosed in single quotes.\n",
    "5. `\\\"` – Double Quote\n",
    "It is used to include a double quote in a string that is enclosed in double quotes.\n",
    "6. `\\r` – Carriage Return\n",
    "It moves the cursor to the beginning of the line (overwrites the text if used).\n",
    "7. `\\b` – Backspace\n",
    "It removes the last character printed.\n",
    "8. `\\f` – Form Feed\n",
    "It causes the cursor to move to the next page (not often used in modern consoles).\n",
    "9. `\\v` – Vertical Tab\n",
    "It moves the cursor down vertically to the next tab position (similar to \\t but vertically).\n",
    "10. `\\u` or `\\U` – Unicode Characters\n",
    "It is used to represent characters by their Unicode code points.\n",
    "11. `\\x` – Hexadecimal Character\n",
    "It represents a character using its hexadecimal code.\n",
    "12. `\\a` – Bell (alert)\n",
    "It triggers a beep sound in many systems.\n",
    "\n"
   ]
  },
  {
   "cell_type": "code",
   "execution_count": 15,
   "metadata": {},
   "outputs": [
    {
     "name": "stdout",
     "output_type": "stream",
     "text": [
      "Hello\n",
      "World\n",
      "Hello\tWorld\n",
      "This is a backslash: \\\n",
      "It's a beautiful day.\n",
      "He said, \"Hello!\"\n",
      "World\n",
      "HellWorld\n",
      "Hello\fWorld\n",
      "Hello\u000bWorld\n",
      "Hello\n",
      "Hello\n",
      "Hello\u0007\n"
     ]
    }
   ],
   "source": [
    "print(\"Hello\\nWorld\") # It moves the cursor to the next line.\n",
    "print(\"Hello\\tWorld\") # It inserts a tab space between words or characters.\n",
    "print(\"This is a backslash: \\\\\") # It represents a single backslash (\\).\n",
    "print('It\\'s a beautiful day.') # It is used to include a single quote in a string that is enclosed in single quotes.\n",
    "print(\"He said, \\\"Hello!\\\"\") # It is used to include a double quote in a string that is enclosed in double quotes.\n",
    "print(\"Hello\\rWorld\") # It moves the cursor to the beginning of the line (overwrites the text if used).\n",
    "print(\"Hello\\bWorld\") # It removes the last character printed.\n",
    "print(\"Hello\\fWorld\") # It causes the cursor to move to the next page (not often used in modern consoles).\n",
    "print(\"Hello\\vWorld\") # It moves the cursor down vertically to the next tab position (similar to \\t but vertically).\n",
    "print(\"\\u0048\\u0065\\u006C\\u006C\\u006F\") # It is used to represent characters by their Unicode code points.\n",
    "print(\"\\x48\\x65\\x6C\\x6C\\x6F\")  # It represents a character using its hexadecimal code.\n",
    "print(\"Hello\\a\") # It triggers a beep sound in many systems.\n"
   ]
  },
  {
   "cell_type": "markdown",
   "metadata": {},
   "source": [
    "#### **3.6 Slicing**\n",
    "In Python, slicing is a way to extract a portion (or \"slice\") of a sequence like a list, tuple, or string. Slicing allows you to access a specific range of elements without modifying the original sequence.\n",
    "\n",
    "*Syntax of Slicing:*\n",
    "\n",
    "`sequence[start:end:step]`\n",
    "\n",
    "* `start`: The index from where the slice starts (inclusive). If omitted, it defaults to the beginning of the sequence (`0` for positive indices, and `-len(sequence)` for negative indices).\n",
    "* `end`: The index where the slice ends (exclusive). If omitted, it defaults to the end of the sequence (`len(sequence)` for positive indices, and `-1` for negative indices).\n",
    "* `step`: The step or stride between the elements in the slice. If omitted, it defaults to `1`, meaning consecutive elements."
   ]
  },
  {
   "cell_type": "code",
   "execution_count": 25,
   "metadata": {},
   "outputs": [
    {
     "name": "stdout",
     "output_type": "stream",
     "text": [
      "Paki\n",
      "stan\n",
      "tan\n",
      "ista\n",
      "\n"
     ]
    }
   ],
   "source": [
    "string = \"Pakistan\"\n",
    "print(string [:4]) # string[0:4]\n",
    "print(string[4:]) # strinng[4:8] **for last index add one in length**\n",
    "print(string[5:len(string)])\n",
    "print(string[-5:-1]) "
   ]
  },
  {
   "cell_type": "markdown",
   "metadata": {},
   "source": [
    "### **String Functions**"
   ]
  },
  {
   "cell_type": "code",
   "execution_count": 38,
   "metadata": {},
   "outputs": [
    {
     "name": "stdout",
     "output_type": "stream",
     "text": [
      "False\n",
      "This is new string\n",
      "this is new string\n",
      "3\n",
      "This is old string\n",
      "-1\n"
     ]
    }
   ],
   "source": [
    "str = \"This is new string\"\n",
    "print(str.endswith(\"fg\"))\n",
    "print(str.capitalize())\n",
    "print(str.casefold())\n",
    "print(str.count(\"i\"))\n",
    "print(str.replace(\"new\",\"old\"))\n",
    "print(str.find(\"saira\"))"
   ]
  },
  {
   "cell_type": "markdown",
   "metadata": {},
   "source": [
    "### *Let's Practice*"
   ]
  },
  {
   "cell_type": "markdown",
   "metadata": {},
   "source": [
    "- Write a Python program that stores your name in a variable and prints:\n",
    "Your name\n",
    "The length of your name\n",
    "The first and last letter of your name"
   ]
  },
  {
   "cell_type": "code",
   "execution_count": null,
   "metadata": {},
   "outputs": [
    {
     "name": "stdout",
     "output_type": "stream",
     "text": [
      "Saira\n",
      "5\n",
      "S\n",
      "a\n"
     ]
    }
   ],
   "source": [
    "name = \"Saira\"\n",
    "print(name)\n",
    "print(len(name))\n",
    "print(name[0])\n",
    "print(name[-1])"
   ]
  },
  {
   "cell_type": "markdown",
   "metadata": {},
   "source": [
    "- Write a program that:\n",
    "Takes a word as input.\n",
    "Prints the first, third, and last character using indexing."
   ]
  },
  {
   "cell_type": "code",
   "execution_count": null,
   "metadata": {},
   "outputs": [
    {
     "name": "stdout",
     "output_type": "stream",
     "text": [
      "M\n",
      " \n",
      "i\n"
     ]
    }
   ],
   "source": [
    "word2 = input(\"Please enter a word: \")\n",
    "print(word2[0])\n",
    "print(word2[2])\n",
    "print(word2[-1])\n"
   ]
  },
  {
   "cell_type": "markdown",
   "metadata": {},
   "source": [
    "- Write a Python program that\n",
    "Takes two words as input from the user.\n",
    "Concatenates them with a space in between.\n",
    "Prints the final sentence."
   ]
  },
  {
   "cell_type": "code",
   "execution_count": 10,
   "metadata": {},
   "outputs": [
    {
     "name": "stdout",
     "output_type": "stream",
     "text": [
      "Saira Kanwal\n"
     ]
    }
   ],
   "source": [
    "first_word = input(\"Please enter first word\")\n",
    "second_word = input(\"Please enter second word\")\n",
    "print(first_word + \" \" + second_word)"
   ]
  },
  {
   "cell_type": "markdown",
   "metadata": {},
   "source": [
    "- Write a Python program that: takes a sentence as input.\n",
    "Converts it to uppercase.\n",
    "Replaces all spaces \" \" with \"-\".\n",
    "Prints the final modified sentence."
   ]
  },
  {
   "cell_type": "code",
   "execution_count": null,
   "metadata": {},
   "outputs": [
    {
     "name": "stdout",
     "output_type": "stream",
     "text": [
      "MY-NAME-IS-SAIRA\n"
     ]
    }
   ],
   "source": [
    "sentence = input(\"Please enter a sentence: \")\n",
    "sentence = sentence.upper()\n",
    "sentence = sentence.replace(\" \", \"-\")\n",
    "print(sentence)"
   ]
  },
  {
   "cell_type": "markdown",
   "metadata": {},
   "source": [
    "**Alternate solution:**\n",
    "\n",
    "\n",
    "- `str.maketrans(\" \", \"-\")` creates a translation table that maps spaces to hyphens.\n",
    "- `sentence.translate()` applies this translation to the string, replacing all spaces with hyphens."
   ]
  },
  {
   "cell_type": "code",
   "execution_count": null,
   "metadata": {},
   "outputs": [
    {
     "name": "stdout",
     "output_type": "stream",
     "text": [
      "MY-NAME-IS-SAIRA\n"
     ]
    }
   ],
   "source": [
    "sentence = input(\"Please enter a sentence: \")\n",
    "sentence = sentence.upper()\n",
    "sentence = sentence.translate(str.maketrans(\" \", \"-\"))\n",
    "print(sentence)"
   ]
  },
  {
   "cell_type": "markdown",
   "metadata": {},
   "source": [
    "## **4. Operators**\n",
    "Operators are symbols that perform operations on values or variables. Python has several types of operators:"
   ]
  },
  {
   "cell_type": "markdown",
   "metadata": {},
   "source": [
    "### **4.1 Arithmetic Operators (Math Operations)**\n",
    "   \n",
    "| Operator | Meaning | Example | Output |\n",
    "|:--------:|:-------:|:-------:|:------:|\n",
    "| `+` | Addition | `5 + 3` | 8 |\n",
    "| `-` | Subtraction | `10 - 4` | 6 |\n",
    "| `*` | Multiplication | `3 * 4` | 12 |\n",
    "| `/` | Division | `10 / 2` | 5.0 |\n",
    "| `//` | Floor Division (removes decimal) | `10 // 3` | 3 |\n",
    "| `%` | Modulus (remainder) | `10 % 3` | 1 |\n",
    "| `**` | Exponentiation (power) | `2 ** 3` | 8 |"
   ]
  },
  {
   "cell_type": "markdown",
   "metadata": {},
   "source": [
    "### **4.2 Comparison Operators (Checks Conditions)**\n",
    "   \n",
    "| Operator | Meaning | Example | Output |\n",
    "|:--------:|:-------:|:-------:|:------:|\n",
    "| `==` | Equal to | `5 == 5` | `True` |\n",
    "| `!=` | Not equal to | `3 != 6` | `True` |\n",
    "| `>` | Greater than | `5 > 3` | `True` |\n",
    "| `<` | Less than | `5 < 3` | `False` |\n",
    "| `>=` | Greater than or equal to | `5 >= 5` | `True`|\n",
    "| `<=` | Less than or equal to | `3 <= 5` | `True` |\n"
   ]
  },
  {
   "cell_type": "markdown",
   "metadata": {},
   "source": [
    "### **4.3 Logical Operators (Combine Conditions)**\n",
    "   \n",
    "| Operator | Meaning | Example | Output |\n",
    "|:--------:|:-------:|:-------:|:------:|\n",
    "| `and`   | Both conditions must be true | `True and False` | `False` |\n",
    "| `or`    | Either condition must be true | `True or False`  | `True` |\n",
    "| `not`   | Reverse True/False | `not True` | `False` |\n"
   ]
  },
  {
   "cell_type": "markdown",
   "metadata": {},
   "source": [
    "### **4.4  Assignment Operators (Assign Values)**\n",
    "   \n",
    "| Operator | Meaning | Example |\n",
    "|:--------:|:-------:|:-------:|\n",
    "| `=`      | Assign | `x = 5` | \n",
    "| `+=`     | Same as x = x + 3| `x += 3` |\n",
    "| `-=`     | Same as x = x - 3 | `x -= 3` |\n",
    "| `*=`     | Same as x = x * 2 | `x *= 2` |\n",
    "| `/=`     | Same as x = x / 2 | `x /= 2` |\n",
    "| `**=`    | Exponent and assign | `x **= 5` |\n",
    "| `%=`     | Modulus and assign | `x %= 5` |\n",
    "| `<<=`    | Left shift and assign | `x <<= 5` |\n",
    "| `>>=`    | Right shift and assign | `x >>= 5` |\n",
    "| `&=`     | Bitwise AND and assign | `x &= 5` |\n",
    "| `^=`     | Bitwise XOR and assign | `x ^= 5` |\n",
    "| `|=`     | Bitwise OR and assign | `x |= 5` |\n"
   ]
  },
  {
   "cell_type": "markdown",
   "metadata": {},
   "source": [
    "### *Let's Practice*\n",
    "Write a Python program that:\n",
    "\n",
    "Takes two numbers as input.\n",
    "Performs addition, subtraction, multiplication, and modulus on them.\n",
    "Prints the results."
   ]
  },
  {
   "cell_type": "code",
   "execution_count": 13,
   "metadata": {},
   "outputs": [
    {
     "name": "stdout",
     "output_type": "stream",
     "text": [
      "Addition: \n",
      " 33\n",
      "Substraction : \n",
      " -13\n",
      "Multiplication: \n",
      " 230\n",
      "Modulus \n",
      " 10\n"
     ]
    }
   ],
   "source": [
    "num_1 = int(input(\"Enter first number: \"))\n",
    "num_2 = int(input(\"Enter second number: \"))\n",
    "addition = num_1 + num_2\n",
    "subtraction = num_1 - num_2\n",
    "multiplication = num_1 * num_2\n",
    "modulus = num_1 % num_2\n",
    "print(\"Addition: \\n\",addition)\n",
    "print(\"Substraction : \\n\", subtraction)\n",
    "print(\"Multiplication: \\n\", multiplication)\n",
    "print(\"Modulus \\n\", modulus)"
   ]
  },
  {
   "cell_type": "markdown",
   "metadata": {},
   "source": [
    "## **5. Conditional Statements**"
   ]
  },
  {
   "cell_type": "markdown",
   "metadata": {},
   "source": [
    "Conditional statements are used to execute different blocks of code based on a condition or set of conditions.\n",
    "\n",
    "### **Basic `if` Statement**\n",
    "> If the condition (age >= 18) is True, it prints \"You are an adult.\""
   ]
  },
  {
   "cell_type": "code",
   "execution_count": null,
   "metadata": {},
   "outputs": [],
   "source": [
    "age = int(input(\"Enter your age: \"))\n",
    "if age >= 18:\n",
    "    print(\"You are an adult.\")\n"
   ]
  },
  {
   "cell_type": "markdown",
   "metadata": {},
   "source": [
    "### **`if-else` Statement**\n",
    "> If the condition is False, the else block runs."
   ]
  },
  {
   "cell_type": "code",
   "execution_count": null,
   "metadata": {},
   "outputs": [
    {
     "name": "stdout",
     "output_type": "stream",
     "text": [
      "You are an adult.\n"
     ]
    }
   ],
   "source": [
    "age = int(input(\"Enter your age: \"))\n",
    "if age >= 18:\n",
    "    print(\"You are an adult.\")\n",
    "else:\n",
    "    print(\"You are a minor.\")\n"
   ]
  },
  {
   "cell_type": "markdown",
   "metadata": {},
   "source": [
    "### **`if-elif-else` Statement**\n",
    "> It checks multiple conditions using elif."
   ]
  },
  {
   "cell_type": "code",
   "execution_count": null,
   "metadata": {},
   "outputs": [
    {
     "name": "stdout",
     "output_type": "stream",
     "text": [
      "Grade: F\n"
     ]
    }
   ],
   "source": [
    "score = int(input(\"Enter score: \"))\n",
    "if score >= 90:\n",
    "    print(\"Grade: A\")\n",
    "elif score >= 80:\n",
    "    print(\"Grade: B\")\n",
    "elif score >= 70:\n",
    "    print(\"Grade: C\")\n",
    "else:\n",
    "    print(\"Grade: F\")\n"
   ]
  },
  {
   "cell_type": "markdown",
   "metadata": {},
   "source": [
    "#### *Let's Practice*\n",
    "\n",
    "- Write a Python program that:\n",
    "Takes a number as input.\n",
    "Checks if the number is positive, negative, or zero and prints the result."
   ]
  },
  {
   "cell_type": "code",
   "execution_count": null,
   "metadata": {},
   "outputs": [
    {
     "name": "stdout",
     "output_type": "stream",
     "text": [
      "The is Positive\n"
     ]
    }
   ],
   "source": [
    "number = int(input(\"Please enter number: \"))\n",
    "if number > 0:\n",
    "    print(\"The number is Positive\")\n",
    "elif number < 0 :\n",
    "    print(\"The number is Negative\")\n",
    "else:\n",
    "    print(\"The number is Zero\") \n"
   ]
  },
  {
   "cell_type": "markdown",
   "metadata": {},
   "source": [
    "- How to check if a number is a multiple of another using basic Python code."
   ]
  },
  {
   "cell_type": "code",
   "execution_count": 39,
   "metadata": {},
   "outputs": [
    {
     "name": "stdout",
     "output_type": "stream",
     "text": [
      "20 is not divisible by 3\n"
     ]
    }
   ],
   "source": [
    "x = int(input(\"Enter a number: \"))\n",
    "y = int(input(\"Enter another number: \"))\n",
    "\n",
    "if x % y == 0:\n",
    "    print(f\"{x} is divisible by {y}\")\n",
    "else:\n",
    "    print(f\"{x} is not divisible by {y}\")"
   ]
  },
  {
   "cell_type": "markdown",
   "metadata": {},
   "source": [
    "## **6. List**"
   ]
  }
 ],
 "metadata": {
  "kernelspec": {
   "display_name": "Python 3",
   "language": "python",
   "name": "python3"
  },
  "language_info": {
   "codemirror_mode": {
    "name": "ipython",
    "version": 3
   },
   "file_extension": ".py",
   "mimetype": "text/x-python",
   "name": "python",
   "nbconvert_exporter": "python",
   "pygments_lexer": "ipython3",
   "version": "3.11.0"
  }
 },
 "nbformat": 4,
 "nbformat_minor": 2
}
