{
 "cells": [
  {
   "cell_type": "markdown",
   "metadata": {},
   "source": [
    "#### Question 1\n",
    "Write a program that takes an integer input from the user and prints its type. Then, take a floating-point input and print its type. Explain why both inputs are treated as strings initially."
   ]
  },
  {
   "cell_type": "markdown",
   "metadata": {},
   "source": [
    "#### Answer \n",
    "When we use the input() function in Python, it always returns the input as a string, regardless of whether the input consists of numbers or text. This happens because input() captures everything typed by the user as plain text."
   ]
  },
  {
   "cell_type": "code",
   "execution_count": 1,
   "metadata": {},
   "outputs": [
    {
     "name": "stdout",
     "output_type": "stream",
     "text": [
      "The type of the integer input is: <class 'str'>\n",
      "The type of the floating-point input is: <class 'str'>\n"
     ]
    }
   ],
   "source": [
    "# Take integer input from the user\n",
    "user_input_int = input(\"Enter an integer: \")\n",
    "print(f\"The type of the integer input is: {type(user_input_int)}\")\n",
    "\n",
    "# Take floating-point input from the user\n",
    "user_input_float = input(\"Enter a floating-point number: \")\n",
    "print(f\"The type of the floating-point input is: {type(user_input_float)}\")"
   ]
  },
  {
   "cell_type": "markdown",
   "metadata": {},
   "source": [
    "#### Question 2:\n",
    "Create a program that prompts the user to enter a number as a string and then converts it to an integer. Print the converted value and its type."
   ]
  },
  {
   "cell_type": "markdown",
   "metadata": {},
   "source": [
    "#### Answer:\n"
   ]
  },
  {
   "cell_type": "code",
   "execution_count": 3,
   "metadata": {},
   "outputs": [
    {
     "name": "stdout",
     "output_type": "stream",
     "text": [
      "The converted value is: 7\n",
      "The type of the converted value is: <class 'int'>\n"
     ]
    }
   ],
   "source": [
    "# Prompt the user to enter a number as a string\n",
    "user_input = input(\"Enter a number as a string: \")\n",
    "\n",
    "# Convert the string input to an integer\n",
    "converted_value = int(user_input)\n",
    "\n",
    "# Print the converted value and its type\n",
    "print(f\"The converted value is: {converted_value}\")\n",
    "print(f\"The type of the converted value is: {type(converted_value)}\")\n"
   ]
  },
  {
   "cell_type": "markdown",
   "metadata": {},
   "source": [
    "#### Question 3:\n",
    "Write a program that takes two numbers as input and prints their sum, difference, product, and quotient. Ensure to handle the division by zero case.\n"
   ]
  },
  {
   "cell_type": "markdown",
   "metadata": {},
   "source": [
    "#### Answer"
   ]
  },
  {
   "cell_type": "code",
   "execution_count": 10,
   "metadata": {},
   "outputs": [
    {
     "name": "stdout",
     "output_type": "stream",
     "text": [
      "The sum of 40.0 and 0.0 is: 40.0\n",
      "The difference of 40.0 and 0.0 is: 40.0\n",
      "The product of 40.0 and 0.0 is: 0.0\n",
      "The quotient of 40.0 and 0.0 is: undefined (division by zero)\n"
     ]
    }
   ],
   "source": [
    "# Take two numbers as input from the user\n",
    "num1 = float(input(\"Enter the first number: \"))\n",
    "num2 = float(input(\"Enter the second number: \"))\n",
    "\n",
    "# Calculate sum, difference, product, and quotient\n",
    "sum_result = num1 + num2\n",
    "difference_result = num1 - num2\n",
    "product_result = num1 * num2\n",
    "\n",
    "# Handle division and check for division by zero\n",
    "if num2 != 0:\n",
    "    quotient_result = num1 / num2\n",
    "    \n",
    "else:\n",
    "    quotient_result = \"undefined (division by zero)\"\n",
    "\n",
    "# Print the results\n",
    "print(f\"The sum of {num1} and {num2} is: {sum_result}\")\n",
    "print(f\"The difference of {num1} and {num2} is: {difference_result}\")\n",
    "print(f\"The product of {num1} and {num2} is: {product_result}\")\n",
    "print(f\"The quotient of {num1} and {num2} is: {quotient_result}\")\n",
    "\n"
   ]
  },
  {
   "cell_type": "markdown",
   "metadata": {},
   "source": [
    "### Question 4\n",
    "Develop a program that asks for the user's name, age, and marks. Store these values in variables and print a welcome message that includes the user's name, age, and marks."
   ]
  },
  {
   "cell_type": "markdown",
   "metadata": {},
   "source": [
    "#### Answer\n"
   ]
  },
  {
   "cell_type": "code",
   "execution_count": 12,
   "metadata": {},
   "outputs": [
    {
     "name": "stdout",
     "output_type": "stream",
     "text": [
      "Welcome Saira! You are 25 years old and your marks are 90].\n"
     ]
    }
   ],
   "source": [
    "# Ask for the user's name, age, and marks\n",
    "name = input(\"Enter your name: \")\n",
    "age = input(\"Enter your age: \")\n",
    "marks = input(\"Enter your marks: \")\n",
    "\n",
    "# Print a welcome message with the provided details\n",
    "print(f\"Welcome {name}! You are {age} years old and your marks are {marks}.\")\n"
   ]
  },
  {
   "cell_type": "markdown",
   "metadata": {},
   "source": [
    "#### Question 5\n",
    "Write a program that inputs the side length of a square and calculates its area. Print the area using the formula: Area = side × side."
   ]
  },
  {
   "cell_type": "markdown",
   "metadata": {},
   "source": [
    "#### Answer"
   ]
  },
  {
   "cell_type": "code",
   "execution_count": 13,
   "metadata": {},
   "outputs": [
    {
     "name": "stdout",
     "output_type": "stream",
     "text": [
      "The area of the square is: 1600.0\n"
     ]
    }
   ],
   "source": [
    "# Ask for the side length of the square\n",
    "side_length = float(input(\"Enter the side length of the square: \"))\n",
    "\n",
    "# Calculate the area using the formula Area = side × side\n",
    "area = side_length * side_length\n",
    "\n",
    "# Print the area\n",
    "print(f\"The area of the square is: {area}\")\n"
   ]
  },
  {
   "cell_type": "markdown",
   "metadata": {},
   "source": [
    "#### Question 6\n",
    "Create a program that takes two floating-point numbers as input and calculates their average. Print the average value.\n",
    "#### Answer\n"
   ]
  },
  {
   "cell_type": "code",
   "execution_count": 14,
   "metadata": {},
   "outputs": [
    {
     "name": "stdout",
     "output_type": "stream",
     "text": [
      "The average of 34.2 and 22.3 is: 28.25\n"
     ]
    }
   ],
   "source": [
    "# Ask for two floating-point numbers as input\n",
    "num1 = float(input(\"Enter the first floating-point number: \"))\n",
    "num2 = float(input(\"Enter the second floating-point number: \"))\n",
    "\n",
    "# Calculate the average\n",
    "average = (num1 + num2) / 2\n",
    "\n",
    "# Print the average\n",
    "print(f\"The average of {num1} and {num2} is: {average}\")\n"
   ]
  },
  {
   "cell_type": "markdown",
   "metadata": {},
   "source": [
    "#### Question 7\n",
    "Write a program that takes two integer inputs and prints \"True\" if the first number is greater than or equal to the second number; otherwise, print \"False\".\n",
    "#### Answer"
   ]
  },
  {
   "cell_type": "code",
   "execution_count": 15,
   "metadata": {},
   "outputs": [
    {
     "name": "stdout",
     "output_type": "stream",
     "text": [
      "True\n"
     ]
    }
   ],
   "source": [
    "# Take two integer inputs from the user\n",
    "num1 = int(input(\"Enter the first integer: \"))\n",
    "num2 = int(input(\"Enter the second integer: \"))\n",
    "\n",
    "# Check if the first number is greater than or equal to the second number\n",
    "if num1 >= num2:\n",
    "    print(\"True\")\n",
    "else:\n",
    "    print(\"False\")\n"
   ]
  },
  {
   "cell_type": "markdown",
   "metadata": {},
   "source": [
    "#### Question 8\n",
    "Develop a program that inputs two numbers and prints their sum. Ensure to convert the input values to integers before performing the addition.\n",
    "#### Answer"
   ]
  },
  {
   "cell_type": "code",
   "execution_count": 16,
   "metadata": {},
   "outputs": [
    {
     "name": "stdout",
     "output_type": "stream",
     "text": [
      "The sum of 23 and 23 is: 46\n"
     ]
    }
   ],
   "source": [
    "# Ask the user to input two numbers\n",
    "num1 = int(input(\"Enter the first number: \"))\n",
    "num2 = int(input(\"Enter the second number: \"))\n",
    "\n",
    "# Calculate the sum\n",
    "sum_result = num1 + num2\n",
    "\n",
    "# Print the sum\n",
    "print(f\"The sum of {num1} and {num2} is: {sum_result}\")\n"
   ]
  },
  {
   "cell_type": "markdown",
   "metadata": {},
   "source": [
    "#### Question 9\n",
    "Modify the square area program to calculate the area using the power operator (i.e., side ** 2) instead of multiplication. Print the result.\n",
    "#### Answer"
   ]
  },
  {
   "cell_type": "code",
   "execution_count": 17,
   "metadata": {},
   "outputs": [
    {
     "name": "stdout",
     "output_type": "stream",
     "text": [
      "The area of the square is: 900.0\n"
     ]
    }
   ],
   "source": [
    "# Ask for the side length of the square\n",
    "side_length = float(input(\"Enter the side length of the square: \"))\n",
    "\n",
    "# Calculate the area using the power operator\n",
    "area = side_length ** 2\n",
    "\n",
    "# Print the area\n",
    "print(f\"The area of the square is: {area}\")\n"
   ]
  },
  {
   "cell_type": "markdown",
   "metadata": {},
   "source": [
    "#### Question 10\n",
    "Write a program that continuously prompts the user to enter a valid integer until they do so. Print the valid integer once received\n",
    "#### Answer"
   ]
  },
  {
   "cell_type": "code",
   "execution_count": 19,
   "metadata": {},
   "outputs": [
    {
     "name": "stdout",
     "output_type": "stream",
     "text": [
      "That's not a valid integer. Please try again.\n",
      "You entered the valid integer: 343\n"
     ]
    }
   ],
   "source": [
    "# Loop until a valid integer is entered\n",
    "while True:\n",
    "    try:\n",
    "        # Prompt the user to enter a number\n",
    "        user_input = input(\"Enter a valid integer: \")\n",
    "        \n",
    "        # Try to convert the input to an integer\n",
    "        valid_integer = int(user_input)\n",
    "        \n",
    "        # If conversion is successful, print the valid integer and break the loop\n",
    "        print(f\"You entered the valid integer: {valid_integer}\")\n",
    "        break\n",
    "    except ValueError:\n",
    "        # If input is not a valid integer, print an error message and continue the loop\n",
    "        print(\"That's not a valid integer. Please try again.\")\n"
   ]
  },
  {
   "cell_type": "markdown",
   "metadata": {},
   "source": [
    "#### Question 11\n",
    "Discuss how you would handle errors in user input, such as entering a string when an integer is expected. Write a program that demonstrates error handling using try-except blocks.\n",
    "#### Answer"
   ]
  },
  {
   "cell_type": "code",
   "execution_count": 21,
   "metadata": {},
   "outputs": [
    {
     "name": "stdout",
     "output_type": "stream",
     "text": [
      "Error: That's not a valid integer. Please enter a valid integer.\n",
      "Thank you! You entered the integer: 5\n"
     ]
    }
   ],
   "source": [
    "# Program to demonstrate error handling using try-except blocks\n",
    "while True:\n",
    "    try:\n",
    "        # Prompt the user to enter an integer\n",
    "        user_input = input(\"Please enter an integer: \")\n",
    "\n",
    "        # Attempt to convert the input into an integer\n",
    "        user_number = int(user_input)\n",
    "\n",
    "        # If conversion is successful, print the number and exit the loop\n",
    "        print(f\"Thank you! You entered the integer: {user_number}\")\n",
    "        break\n",
    "    except ValueError:\n",
    "        # Handle the case where the input is not a valid integer\n",
    "        print(\"Error: That's not a valid integer. Please enter a valid integer.\")\n"
   ]
  },
  {
   "cell_type": "markdown",
   "metadata": {},
   "source": [
    "#### Question 12\n",
    "Create a function that takes two numbers as parameters and returns their product. Write a program that calls this function and prints the result.\n",
    "#### Answer"
   ]
  },
  {
   "cell_type": "code",
   "execution_count": 22,
   "metadata": {},
   "outputs": [
    {
     "name": "stdout",
     "output_type": "stream",
     "text": [
      "The product of 45.0 and 78.0 is: 3510.0\n"
     ]
    }
   ],
   "source": [
    "# Define a function that takes two numbers as parameters and returns their product\n",
    "def multiply_numbers(num1, num2):\n",
    "    return num1 * num2\n",
    "\n",
    "# Ask the user to input two numbers\n",
    "number1 = float(input(\"Enter the first number: \"))\n",
    "number2 = float(input(\"Enter the second number: \"))\n",
    "\n",
    "# Call the multiply_numbers function and store the result\n",
    "result = multiply_numbers(number1, number2)\n",
    "\n",
    "# Print the result\n",
    "print(f\"The product of {number1} and {number2} is: {result}\")\n"
   ]
  },
  {
   "cell_type": "markdown",
   "metadata": {},
   "source": [
    "#### Question 13\n",
    "Write a program that asks the user to enter numbers until they enter 'done'. Calculate and print the sum of all entered numbers.\n",
    "#### Answer"
   ]
  },
  {
   "cell_type": "code",
   "execution_count": 23,
   "metadata": {},
   "outputs": [
    {
     "name": "stdout",
     "output_type": "stream",
     "text": [
      "The total sum of all entered numbers is: 258.0\n"
     ]
    }
   ],
   "source": [
    "# Initialize the total sum to 0\n",
    "total_sum = 0\n",
    "\n",
    "# Loop to continuously ask the user for input\n",
    "while True:\n",
    "    user_input = input(\"Enter a number (or type 'done' to finish): \")\n",
    "    \n",
    "    # Check if the user entered 'done'\n",
    "    if user_input.lower() == 'done':\n",
    "        break\n",
    "    \n",
    "    try:\n",
    "        # Try to convert the input to a number (float)\n",
    "        num = float(user_input)\n",
    "        total_sum += num  # Add the number to the total sum\n",
    "    except ValueError:\n",
    "        # Handle the case where the input is not a valid number\n",
    "        print(\"Invalid input. Please enter a valid number.\")\n",
    "\n",
    "# Print the total sum of the entered numbers\n",
    "print(f\"The total sum of all entered numbers is: {total_sum}\")\n"
   ]
  },
  {
   "cell_type": "markdown",
   "metadata": {},
   "source": [
    "#### Question 14\n",
    "Explore different data types in Python by creating a program that initializes variables of various types (string, integer, float, boolean) and prints their types and values.\n",
    "#### Answer"
   ]
  },
  {
   "cell_type": "code",
   "execution_count": 24,
   "metadata": {},
   "outputs": [
    {
     "name": "stdout",
     "output_type": "stream",
     "text": [
      "Value of string_var: Hello, World!\n",
      "Type of string_var: <class 'str'>\n",
      "\n",
      "Value of int_var: 42\n",
      "Type of int_var: <class 'int'>\n",
      "\n",
      "Value of float_var: 3.14159\n",
      "Type of float_var: <class 'float'>\n",
      "\n",
      "Value of bool_var: True\n",
      "Type of bool_var: <class 'bool'>\n"
     ]
    }
   ],
   "source": [
    "# Initialize variables of different data types\n",
    "string_var = \"Hello, World!\"  # String\n",
    "int_var = 42                  # Integer\n",
    "float_var = 3.14159           # Float\n",
    "bool_var = True               # Boolean\n",
    "\n",
    "# Print the values and their types\n",
    "print(\"Value of string_var:\", string_var)\n",
    "print(\"Type of string_var:\", type(string_var))\n",
    "\n",
    "print(\"\\nValue of int_var:\", int_var)\n",
    "print(\"Type of int_var:\", type(int_var))\n",
    "\n",
    "print(\"\\nValue of float_var:\", float_var)\n",
    "print(\"Type of float_var:\", type(float_var))\n",
    "\n",
    "print(\"\\nValue of bool_var:\", bool_var)\n",
    "print(\"Type of bool_var:\", type(bool_var))\n"
   ]
  }
 ],
 "metadata": {
  "kernelspec": {
   "display_name": "Python 3",
   "language": "python",
   "name": "python3"
  },
  "language_info": {
   "codemirror_mode": {
    "name": "ipython",
    "version": 3
   },
   "file_extension": ".py",
   "mimetype": "text/x-python",
   "name": "python",
   "nbconvert_exporter": "python",
   "pygments_lexer": "ipython3",
   "version": "3.11.0"
  }
 },
 "nbformat": 4,
 "nbformat_minor": 2
}
