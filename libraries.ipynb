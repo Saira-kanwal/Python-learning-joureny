{
 "cells": [
  {
   "cell_type": "markdown",
   "metadata": {},
   "source": [
    "# Libraries\n",
    "\n",
    "<!-- https://www.youtube.com/watch?v=V5Pk5qvRo7A&list=PL9XvIvvVL50Fba7psesg6ynQXdipw-yoN&index=10&ab_channel=Codanics -->\n",
    "\n",
    "## pandas\n",
    "    Pandas is a powerful data manipulation and analysis tool, which can be used for various tasks such as reading datasets from different formats like CSV.\n",
    "## numpy\n",
    "## matplotlib\n",
    "## seaborn\n",
    "## plotly\n",
    "## scipystates\n",
    "## scikitlearn\n",
    "## keras \n",
    "## streamlit"
   ]
  }
 ],
 "metadata": {
  "language_info": {
   "name": "python"
  }
 },
 "nbformat": 4,
 "nbformat_minor": 2
}
